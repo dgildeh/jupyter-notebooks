{
 "cells": [
  {
   "cell_type": "markdown",
   "metadata": {},
   "source": [
    "# Soybean Image Classifier Using Neural Network Built From Scratch\n",
    "\n",
    "The purpose of this project is to build a neural network from scratch using the Numpty library. This excercise helps with understanding the architecture and maths behind the neural network libraries provided by Keras and Tensorflow.\n",
    "\n",
    "This project uses the Kaggle [Weed Detection In Soybean Crops](https://www.kaggle.com/fpeccia/weed-detection-in-soybean-crops/) dataset for training and testing the model.\n",
    "\n",
    "## Setup"
   ]
  },
  {
   "cell_type": "code",
   "execution_count": null,
   "metadata": {},
   "outputs": [],
   "source": [
    "# Make sure we have all the required modules imported into our environment\n",
    "\n",
    "import sys\n",
    "!{sys.executable} -m pip install -U kaggle\n",
    "!{sys.executable} -m pip install -U matplotlib"
   ]
  },
  {
   "cell_type": "markdown",
   "metadata": {},
   "source": [
    "## Download & Explore Data"
   ]
  },
  {
   "cell_type": "code",
   "execution_count": 3,
   "metadata": {},
   "outputs": [
    {
     "name": "stdout",
     "output_type": "stream",
     "text": [
      "Downloading weed-detection-in-soybean-crops.zip to ./Data\n",
      "100%|██████████████████████████████████████| 2.37G/2.37G [09:57<00:00, 5.49MB/s]\n",
      "100%|██████████████████████████████████████| 2.37G/2.37G [09:57<00:00, 4.25MB/s]\n"
     ]
    }
   ],
   "source": [
    "# Get Kaggle Data - Note you must setup Kaggle on your computer using the instructions here: \n",
    "# https://github.com/Kaggle/kaggle-api#api-credentials\n",
    "\n",
    "!kaggle datasets download -d fpeccia/weed-detection-in-soybean-crops -p ./Data --unzip"
   ]
  },
  {
   "cell_type": "code",
   "execution_count": 10,
   "metadata": {},
   "outputs": [
    {
     "data": {
      "image/png": "[encoded data removed]",
      "text/plain": [
       "<Figure size 432x288 with 1 Axes>"
      ]
     },
     "metadata": {
      "needs_background": "light"
     },
     "output_type": "display_data"
    }
   ],
   "source": [
    "import os\n",
    "import matplotlib.pyplot as plt\n",
    "import seaborn as sns\n",
    "%matplotlib inline\n",
    "\n",
    "DATA_DIR = './Data/dataset/'\n",
    "\n",
    "classes = [folder for folder in os.listdir(DATA_DIR) if folder not in ignore]\n",
    "\n",
    "# List classes in dataset\n",
    "ignore = ['.DS_Store', 'dataset']\n",
    "# Import Dataset: Sample image paths\n",
    "def get_class_img_paths(img_class):\n",
    "    return [DATA_DIR + '{}/'.format(img_class) + img for img in os.listdir(DATA_DIR + img_class) if img not in ignore]\n",
    "\n",
    "class_img_paths = {}\n",
    "class_size = {}\n",
    "for c in classes:\n",
    "    class_img_paths[c] = get_class_img_paths(c)\n",
    "    class_size[c] = len(class_img_paths[c])\n",
    "    \n",
    "fig = sns.barplot(x = 'val', y = 'cat', data = {'cat': classes, 'val': list(class_size.values())}, color = 'blue')\n",
    "plt.xlabel(\"Samples\")\n",
    "plt.ylabel(\"Class\")\n",
    "plt.title(\"Samples per class\")\n",
    "plt.show(fig)"
   ]
  },
  {
   "cell_type": "code",
   "execution_count": 17,
   "metadata": {},
   "outputs": [
    {
     "ename": "TypeError",
     "evalue": "cannot unpack non-iterable Figure object",
     "output_type": "error",
     "traceback": [
      "\u001b[0;31m---------------------------------------------------------------------------\u001b[0m",
      "\u001b[0;31mTypeError\u001b[0m                                 Traceback (most recent call last)",
      "\u001b[0;32m<ipython-input-17-2a1f672026c5>\u001b[0m in \u001b[0;36m<module>\u001b[0;34m\u001b[0m\n\u001b[1;32m      1\u001b[0m \u001b[0;31m# Display first image of each\u001b[0m\u001b[0;34m\u001b[0m\u001b[0;34m\u001b[0m\u001b[0;34m\u001b[0m\u001b[0m\n\u001b[0;32m----> 2\u001b[0;31m \u001b[0mfig\u001b[0m\u001b[0;34m,\u001b[0m \u001b[0max\u001b[0m \u001b[0;34m=\u001b[0m \u001b[0mplt\u001b[0m\u001b[0;34m.\u001b[0m\u001b[0mfigure\u001b[0m\u001b[0;34m(\u001b[0m\u001b[0mfigsize\u001b[0m\u001b[0;34m=\u001b[0m\u001b[0;34m(\u001b[0m\u001b[0;36m3\u001b[0m \u001b[0;34m*\u001b[0m \u001b[0mlen\u001b[0m\u001b[0;34m(\u001b[0m\u001b[0mclasses\u001b[0m\u001b[0;34m)\u001b[0m\u001b[0;34m,\u001b[0m \u001b[0;36m3\u001b[0m\u001b[0;34m)\u001b[0m\u001b[0;34m)\u001b[0m\u001b[0;34m\u001b[0m\u001b[0;34m\u001b[0m\u001b[0m\n\u001b[0m\u001b[1;32m      3\u001b[0m \u001b[0mcol\u001b[0m \u001b[0;34m=\u001b[0m \u001b[0;36m1\u001b[0m\u001b[0;34m\u001b[0m\u001b[0;34m\u001b[0m\u001b[0m\n\u001b[1;32m      4\u001b[0m \u001b[0;32mfor\u001b[0m \u001b[0mc\u001b[0m \u001b[0;32min\u001b[0m \u001b[0mclasses\u001b[0m\u001b[0;34m:\u001b[0m\u001b[0;34m\u001b[0m\u001b[0;34m\u001b[0m\u001b[0m\n\u001b[1;32m      5\u001b[0m     \u001b[0mimg\u001b[0m \u001b[0;34m=\u001b[0m \u001b[0mplt\u001b[0m\u001b[0;34m.\u001b[0m\u001b[0mimread\u001b[0m\u001b[0;34m(\u001b[0m\u001b[0;34mf'{DATA_DIR}/{c}/1.tif'\u001b[0m\u001b[0;34m)\u001b[0m\u001b[0;34m\u001b[0m\u001b[0;34m\u001b[0m\u001b[0m\n",
      "\u001b[0;31mTypeError\u001b[0m: cannot unpack non-iterable Figure object"
     ]
    },
    {
     "data": {
      "text/plain": [
       "<Figure size 864x216 with 0 Axes>"
      ]
     },
     "metadata": {},
     "output_type": "display_data"
    }
   ],
   "source": [
    "# Display first image of each\n",
    "plt.figure(figsize=(3 * len(classes), 3))\n",
    "col = 1\n",
    "for c in classes:\n",
    "    img = plt.imread(f'{DATA_DIR}/{c}/1.tif')    \n",
    "    plt.subplot(1,len(classes),col).set_title(c)\n",
    "    plt.imshow(img, cmap='gray')\n",
    "    col += 1\n",
    "\n",
    "plt.tight_layout()"
   ]
  },
  {
   "cell_type": "code",
   "execution_count": null,
   "metadata": {},
   "outputs": [],
   "source": []
  }
 ],
 "metadata": {
  "kernelspec": {
   "display_name": "Python 3",
   "language": "python",
   "name": "python3"
  },
  "language_info": {
   "codemirror_mode": {
    "name": "ipython",
    "version": 3
   },
   "file_extension": ".py",
   "mimetype": "text/x-python",
   "name": "python",
   "nbconvert_exporter": "python",
   "pygments_lexer": "ipython3",
   "version": "3.7.4"
  }
 },
 "nbformat": 4,
 "nbformat_minor": 2
}
